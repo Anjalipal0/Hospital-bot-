{
 "cells": [
  {
   "cell_type": "code",
   "execution_count": 2,
   "id": "416d076c-99bf-45d7-92e7-07a0b73c2ec6",
   "metadata": {},
   "outputs": [
    {
     "name": "stdout",
     "output_type": "stream",
     "text": [
      "Requirement already satisfied: python-aiml in c:\\users\\lenovo\\anaconda\\lib\\site-packages (0.9.3)\n",
      "Requirement already satisfied: setuptools in c:\\users\\lenovo\\anaconda\\lib\\site-packages (from python-aiml) (68.0.0)\n",
      "Note: you may need to restart the kernel to use updated packages.\n"
     ]
    }
   ],
   "source": [
    "pip install python-aiml"
   ]
  },
  {
   "cell_type": "code",
   "execution_count": 3,
   "id": "3d3e37bc",
   "metadata": {},
   "outputs": [],
   "source": [
    "import aiml"
   ]
  },
  {
   "cell_type": "code",
   "execution_count": 4,
   "id": "909eb66f-2339-467d-bc7b-429bd43b6be3",
   "metadata": {},
   "outputs": [
    {
     "name": "stdout",
     "output_type": "stream",
     "text": [
      "Loading D:\\hsp-startup.xml...done (0.01 seconds)\n",
      "Loading D:\\hsp-chat.aiml...done (0.00 seconds)\n"
     ]
    },
    {
     "data": {
      "text/plain": [
       "''"
      ]
     },
     "execution_count": 4,
     "metadata": {},
     "output_type": "execute_result"
    }
   ],
   "source": [
    "kernel = aiml.Kernel()\n",
    "kernel.learn(r\"D:\\hsp-startup.xml\")\n",
    "kernel.respond(\"LOAD HSP\")\n"
   ]
  },
  {
   "cell_type": "code",
   "execution_count": null,
   "id": "f36a6a84-12d8-4f3d-948c-0108508072f7",
   "metadata": {},
   "outputs": [
    {
     "name": "stdout",
     "output_type": "stream",
     "text": [
      ">Human: HELLO\n",
      ">Bot: Hello! How can I assist you with hospital management today?\n",
      ">Human: WHAT ARE YOUR WORKING HOURS\n",
      ">Bot: Our hospital is open 24/7. For specific department hours, please check our website or call our front desk.\n",
      ">Human: WHERE IS THE EMERGENCY ROOM\n",
      ">Bot: The Emergency Room is located on the ground floor, near the main entrance of the hospital.\n",
      ">Human: HOW CAN I MAKE AN APPOINTMENT\n",
      ">Bot: You can make an appointment by calling our scheduling department at 123-456-7890 or by visiting our website.\n",
      ">Human: WHAT SERVICES DO YOU OFFER\n",
      ">Bot: We offer a wide range of services including emergency care, surgery, diagnostic imaging, maternity care, and outpatient services.\n",
      ">Human: HOW CAN I CONTACT A DOCTOR\n",
      ">Bot: To contact a doctor, please call the main hospital number and ask for the specific doctor’s office, or use our patient portal for secure messaging.\n",
      ">Human: WHAT IS THE VISITING HOURS\n",
      ">Bot: Visiting hours are from 9:00 AM to 8:00 PM daily. For specific unit restrictions, please check with the nurse’s station.\n",
      ">Human: WHERE CAN I PARK\n",
      ">Bot: Parking is available in the lots adjacent to the hospital. We also offer valet services at the main entrance.\n",
      ">Human: DO YOU HAVE A CAFETERIA\n",
      ">Bot: Yes, we have a cafeteria located on the second floor, which is open from 7:00 AM to 7:00 PM.\n",
      ">Human: WHAT INSURANCES DO YOU ACCEPT\n",
      ">Bot: We accept most major insurance plans. For a detailed list, please contact our billing department.\n",
      ">Human: WHAT IS THE EMERGENCY CONTACT NUMBER\n",
      ">Bot: In case of emergency, please call 911. For non-emergency hospital-related issues, call our main number at 123-456-7890.\n",
      ">Human: CAN I REQUEST A MEDICAL RECORD\n",
      ">Bot: Yes, you can request a medical record by filling out a release form at the medical records department or online through our patient portal.\n",
      ">Human: HOW DO I PAY MY BILL\n",
      ">Bot: You can pay your bill online through our website, by mail, or in person at the billing office.\n",
      ">Human: WHERE CAN I FIND A PHARMACY\n",
      ">Bot: The hospital pharmacy is located on the first floor, next to the main lobby.\n",
      ">Human: WHAT IS THE ADMISSION PROCESS\n",
      ">Bot: The admission process involves checking in at the admissions desk, providing your insurance information, and completing any necessary paperwork.\n",
      ">Human: DO YOU OFFER LANGUAGE SERVICES\n",
      ">Bot: Yes, we offer language translation services. Please inform the front desk or your nurse if you need assistance with a different language.\n",
      ">Human: ARE THERE ANY SPECIALTY CLINICS\n",
      ">Bot: Yes, we have specialty clinics including cardiology, orthopedics, neurology, and oncology.\n",
      ">Human: CAN I GET A SECOND OPINION\n",
      ">Bot: Yes, you can request a second opinion by scheduling an appointment with another specialist within our network.\n",
      ">Human: HOW CAN I VOLUNTEER\n",
      ">Bot: To volunteer, please contact our volunteer services department at 123-456-7891 for more information on opportunities and requirements.\n",
      ">Human: WHAT IS THE HOSPITAL'S ADDRESS\n"
     ]
    },
    {
     "name": "stderr",
     "output_type": "stream",
     "text": [
      "WARNING: No match found for input: WHAT IS THE HOSPITAL'S ADDRESS\n"
     ]
    },
    {
     "name": "stdout",
     "output_type": "stream",
     "text": [
      ">Bot: \n",
      ">Human: DO YOU HAVE A PATIENT PORTAL\n",
      ">Bot: Yes, we have a patient portal where you can view your medical records, schedule appointments, and communicate with your healthcare team.\n",
      ">Human: WHAT IS THE HOSPITAL'S ADDRESS\n"
     ]
    },
    {
     "name": "stderr",
     "output_type": "stream",
     "text": [
      "WARNING: No match found for input: WHAT IS THE HOSPITAL'S ADDRESS\n"
     ]
    },
    {
     "name": "stdout",
     "output_type": "stream",
     "text": [
      ">Bot: \n",
      ">Human: ARE THERE ANY COVID-19 PROTOCOLS\n"
     ]
    },
    {
     "name": "stderr",
     "output_type": "stream",
     "text": [
      "WARNING: No match found for input: ARE THERE ANY COVID-19 PROTOCOLS\n"
     ]
    },
    {
     "name": "stdout",
     "output_type": "stream",
     "text": [
      ">Bot: \n",
      ">Human: WHAT IS THE WAIT TIME FOR EMERGENCY ROOM\n",
      ">Bot: Wait times can vary. For the most current wait time, please call the emergency room directly at 123-456-7892.\n",
      ">Human: HOW DO I REQUEST A HOME HEALTH CARE\n",
      ">Bot: To request home health care services, please contact our home health department at 123-456-7893.\n",
      ">Human: DO YOU OFFER CHIROPRACTIC SERVICES\n",
      ">Bot: We do not offer chiropractic services at this facility. However, we can refer you to a local chiropractor.\n",
      ">Human: WHAT IS THE POLICY ON PETS\n",
      ">Bot: Pets are generally not allowed in patient areas. Service animals are an exception. Please contact the hospital for specific policies.\n",
      ">Human: CAN I GET A REFUND\n",
      ">Bot: Refunds are processed through the billing department. Please contact them at 123-456-7894 for assistance.\n",
      ">Human: ARE THERE ANY SUPPORT GROUPS\n",
      ">Bot: Yes, we offer support groups for various conditions. Please check our website or call our social services department for information.\n",
      ">Human: HOW DO I FILE A COMPLAINT\n",
      ">Bot: Complaints can be filed by contacting our patient relations department at 123-456-7895 or through our website.\n",
      ">Human: DO YOU HAVE A GIFT SHOP\n",
      ">Bot: Yes, our gift shop is located in the main lobby and is open from 9:00 AM to 5:00 PM.\n",
      ">Human: WHAT ARE THE PAYMENT OPTIONS\n",
      ">Bot: We accept cash, credit/debit cards, and checks. For payment plans, please contact our billing department.\n",
      ">Human: CAN I REQUEST A PRIVATE ROOM\n",
      ">Bot: Private rooms are available based on availability. Please inquire about this at the admissions desk upon arrival.\n",
      ">Human: WHAT ARE THE REQUIREMENTS FOR SURGERY\n",
      ">Bot: Requirements for surgery include a pre-surgery consultation, medical clearance, and insurance authorization. Please contact our surgical department for specific details.\n",
      ">Human: DO YOU PROVIDE REHABILITATION SERVICES\n",
      ">Bot: Yes, we offer rehabilitation services including physical therapy, occupational therapy, and speech therapy.\n",
      ">Human: WHERE CAN I FIND LAB RESULTS\n",
      ">Bot: Lab results can be obtained through our patient portal or by contacting the lab department directly.\n",
      ">Human: WHAT IS THE POLICY ON ELECTRONIC DEVICES\n",
      ">Bot: Electronic devices are allowed in designated areas. Please turn off devices or set them to silent mode in patient care areas.\n",
      ">Human: HOW DO I UPDATE MY CONTACT INFORMATION\n",
      ">Bot: To update your contact information, please contact the registration department or update your details through the patient portal.\n",
      ">Human: CAN I SEE A NUTRITIONIST\n",
      ">Bot: Yes, you can schedule an appointment with a nutritionist by contacting our dietary department.\n",
      ">Human: DO YOU OFFER PSYCHOLOGICAL SERVICES\n",
      ">Bot: Yes, we offer psychological services including counseling and therapy. Please contact our mental health department for more information.\n",
      ">Human: WHAT IS THE PROCESS FOR DISCHARGE\n",
      ">Bot: The discharge process includes receiving discharge instructions, finalizing any billing, and arranging follow-up care. Please speak with your nurse for details.\n",
      ">Human: DO YOU HAVE MATERNITY SERVICES\n",
      ">Bot: Yes, we offer comprehensive maternity services including prenatal care, delivery, and postnatal care.\n",
      ">Human: WHERE CAN I FIND THE ONCOLOGY DEPARTMENT\n",
      ">Bot: The Oncology Department is located on the third floor. Please follow the signs or ask at the information desk for directions.\n",
      ">Human: WHAT IS THE POLICY ON VISITORS\n",
      ">Bot: Visitor policies vary by department. Please check with the nurse’s station for specific visiting rules and restrictions.\n",
      ">Human: DO YOU OFFER DENTAL SERVICES\n",
      ">Bot: We do not offer dental services at this facility. However, we can provide a referral to a local dental practice.\n",
      ">Human: HOW CAN I ACCESS MY MEDICAL HISTORY\n",
      ">Bot: You can access your medical history through our patient portal or by requesting records from the medical records department.\n",
      ">Human: WHAT IS THE POLICY ON MEDICATIONS\n",
      ">Bot: Patients should only take medications prescribed by their doctor. If you have any questions about medications, please consult with your healthcare provider.\n",
      ">Human: CAN I REQUEST A MEETING WITH MY DOCTOR\n",
      ">Bot: Yes, you can request a meeting with your doctor by calling their office directly or through the patient portal.\n",
      ">Human: WHAT ARE THE ADVANCED DIRECTIVES\n",
      ">Bot: Advanced directives are legal documents that specify your medical care preferences in case you are unable to communicate. Please consult with our social services department for assistance.\n",
      ">Human: DO YOU HAVE A CARDIOLOGY DEPARTMENT\n",
      ">Bot: Yes, we have a Cardiology Department located on the second floor. For more details or to schedule an appointment, please call our cardiology office.\n",
      ">Human: WHERE CAN I FIND THE PATIENT RELATIONS OFFICE\n",
      ">Bot: The Patient Relations Office is located near the main lobby. Please follow the signs or ask at the information desk.\n",
      ">Human: WHAT IS THE POLICY ON SMOKING\n",
      ">Bot: Our hospital is a smoke-free facility. Smoking is not permitted anywhere on the premises.\n",
      ">Human: CAN I GET A COPY OF MY BILL\n",
      ">Bot: Yes, you can request a copy of your bill by contacting our billing department or accessing your account through the patient portal.\n",
      ">Human: DO YOU HAVE A PEDIATRIC DEPARTMENT\n",
      ">Bot: Yes, we have a Pediatric Department that provides care for children from infancy through adolescence. It is located on the fourth floor.\n",
      ">Human: WHAT IS THE POLICY ON CELL PHONES\n",
      ">Bot: Cell phones should be used quietly and respectfully. Please follow hospital guidelines for cell phone use in patient areas.\n",
      ">Human: CAN I GET A TRANSPORT SERVICE\n",
      ">Bot: Yes, we offer transport services for patients within the hospital. For external transport services, please contact a local ambulance provider.\n",
      ">Human: WHAT ARE THE AVAILABLE SPECIALISTS\n",
      ">Bot: We have a range of specialists including cardiologists, neurologists, orthopedic surgeons, and more. Please contact our referral department for specific needs.\n",
      ">Human: DO YOU PROVIDE SURGICAL SERVICES\n",
      ">Bot: Yes, we offer a variety of surgical services including elective, emergency, and minimally invasive procedures.\n",
      ">Human: CAN I HAVE A TOBACCO-FREE ROOM\n"
     ]
    },
    {
     "name": "stderr",
     "output_type": "stream",
     "text": [
      "WARNING: No match found for input: CAN I HAVE A TOBACCO-FREE ROOM\n"
     ]
    },
    {
     "name": "stdout",
     "output_type": "stream",
     "text": [
      ">Bot: \n",
      ">Human: WHAT ARE THE PRE-ADMISSION REQUIREMENTS\n"
     ]
    },
    {
     "name": "stderr",
     "output_type": "stream",
     "text": [
      "WARNING: No match found for input: WHAT ARE THE PRE-ADMISSION REQUIREMENTS\n"
     ]
    },
    {
     "name": "stdout",
     "output_type": "stream",
     "text": [
      ">Bot: \n",
      ">Human: DO YOU OFFER CHRONIC DISEASE MANAGEMENT\n",
      ">Bot: Yes, we offer management programs for chronic diseases such as diabetes, hypertension, and heart disease.\n",
      ">Human: HOW DO I FILE INSURANCE CLAIMS\n",
      ">Bot: Insurance claims are typically filed by our billing department. Please provide your insurance information at the time of your visit.\n",
      ">Human: DO YOU HAVE A PHYSICAL THERAPY DEPARTMENT\n",
      ">Bot: Yes, our Physical Therapy Department is located on the third floor. We offer a range of rehabilitation services.\n",
      ">Human: CAN I SCHEDULE A TELEMEDICINE APPOINTMENT\n",
      ">Bot: Yes, telemedicine appointments can be scheduled through our patient portal or by contacting our scheduling department.\n",
      ">Human: WHAT ARE THE MEDICAL CERTIFICATE PROCEDURES\n",
      ">Bot: Medical certificates can be requested through your physician. Please contact their office for specifics on obtaining a certificate.\n",
      ">Human: HOW CAN I PROVIDE FEEDBACK\n",
      ">Bot: Feedback can be provided through our website, by contacting patient relations, or filling out a feedback form available at our information desk.\n",
      ">Human: DO YOU OFFER PALLIATIVE CARE\n",
      ">Bot: Yes, we offer palliative care services to manage pain and improve the quality of life for patients with serious illnesses.\n",
      ">Human: WHERE CAN I FIND THE NEUROLOGY DEPARTMENT\n",
      ">Bot: The Neurology Department is located on the fifth floor. Please follow the signs or ask for directions at the main desk.\n",
      ">Human: DO YOU HAVE A SOCIAL SERVICES DEPARTMENT\n",
      ">Bot: Yes, we have a Social Services Department that can assist with various needs including discharge planning and community resources.\n",
      ">Human: WHAT IS THE POLICY ON VISITOR NUMBERS\n",
      ">Bot: Visitor numbers are regulated based on patient condition and unit policies. Please check with the nurse’s station for specific visitor limits.\n",
      ">Human: CAN I GET A COPY OF MY MEDICAL RECORDS\n",
      ">Bot: Yes, you can request a copy of your medical records by completing a release form at the medical records department or through our patient portal.\n",
      ">Human: DO YOU PROVIDE MENTAL HEALTH SERVICES\n",
      ">Bot: Yes, we provide mental health services including counseling and psychiatric evaluations. Please contact our mental health department for more information.\n",
      ">Human: HOW CAN I REQUEST INTERPRETER SERVICES\n",
      ">Bot: Interpreter services can be requested by informing the front desk or your healthcare provider. We provide interpreters for various languages.\n",
      ">Human: WHAT ARE THE EMERGENCY PROCEDURES\n",
      ">Bot: In case of an emergency, please call 911 or proceed directly to the Emergency Room. For internal emergencies, use the emergency call system.\n"
     ]
    }
   ],
   "source": [
    "while True:\n",
    "  input_text= input(\">Human: \")\n",
    "  response =kernel.respond(input_text)\n",
    "  print(\">Bot: \"+response)"
   ]
  },
  {
   "cell_type": "code",
   "execution_count": null,
   "id": "3cfb351f-09cd-4d02-9d64-907a39543981",
   "metadata": {},
   "outputs": [],
   "source": []
  }
 ],
 "metadata": {
  "kernelspec": {
   "display_name": "Python 3 (ipykernel)",
   "language": "python",
   "name": "python3"
  },
  "language_info": {
   "codemirror_mode": {
    "name": "ipython",
    "version": 3
   },
   "file_extension": ".py",
   "mimetype": "text/x-python",
   "name": "python",
   "nbconvert_exporter": "python",
   "pygments_lexer": "ipython3",
   "version": "3.11.5"
  }
 },
 "nbformat": 4,
 "nbformat_minor": 5
}
